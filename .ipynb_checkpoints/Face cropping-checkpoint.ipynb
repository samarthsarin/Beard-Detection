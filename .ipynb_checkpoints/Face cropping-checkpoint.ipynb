{
 "cells": [
  {
   "cell_type": "code",
   "execution_count": 1,
   "metadata": {},
   "outputs": [],
   "source": [
    "import glob\n",
    "file= glob.glob('C:/Users/Samarth/Desktop/downloads/beard men/*.jpg')"
   ]
  },
  {
   "cell_type": "code",
   "execution_count": 2,
   "metadata": {},
   "outputs": [
    {
     "data": {
      "text/plain": [
       "343"
      ]
     },
     "execution_count": 2,
     "metadata": {},
     "output_type": "execute_result"
    }
   ],
   "source": [
    "len(file)"
   ]
  },
  {
   "cell_type": "code",
   "execution_count": 3,
   "metadata": {},
   "outputs": [],
   "source": [
    "import numpy as np\n",
    "import cv2\n",
    "\n",
    "face_cascade = cv2.CascadeClassifier('C:/Users/Samarth/Desktop/opencv-master/data/haarcascades/haarcascade_frontalface_default.xml')\n",
    "#eye_cascade = cv2.CascadeClassifier('haarcascade_eye.xml')\n",
    "\n",
    "#gray = cv2.resize(img,(64,64))"
   ]
  },
  {
   "cell_type": "code",
   "execution_count": 4,
   "metadata": {},
   "outputs": [
    {
     "name": "stdout",
     "output_type": "stream",
     "text": [
      "C:/Users/Samarth/Desktop/downloads/beard men\\182. 1150904910.jpg\n",
      "C:/Users/Samarth/Desktop/downloads/beard men\\184. merman-colorful-beard-hair-dye-men-trend-21__605.jpg\n"
     ]
    }
   ],
   "source": [
    "for i in range(len(file)):\n",
    "    try:\n",
    "        img = cv2.imread(file[i])\n",
    "        gray = cv2.cvtColor(img, cv2.COLOR_BGR2GRAY)\n",
    "        faces = face_cascade.detectMultiScale(gray, 1.3, 5)\n",
    "        for (x,y,w,h) in faces:\n",
    "            cv2.rectangle(img,(x,y),(x+w,y+h),(255,255,255),2)\n",
    "            roi_gray = gray[y:y+h, x:x+w]\n",
    "            roi_color = img[y:y+h, x:x+w]\n",
    "            roi_color = cv2.resize(roi_color,(64,64),interpolation = cv2.INTER_AREA)\n",
    "            roi_color = cv2.cvtColor(roi_color,cv2.COLOR_BGR2GRAY)\n",
    "\n",
    "        #cv2.imshow('img',roi_color)\n",
    "\n",
    "            cv2.imwrite('C:/Users/Samarth/Desktop/downloads/beard men/'+str(i)+'_beardds.png',roi_color)\n",
    "    #cv2.waitKey(0)\n",
    "    #cv2.destroyAllWindows()\n",
    "    except:\n",
    "        print(file[i])"
   ]
  },
  {
   "cell_type": "code",
   "execution_count": 59,
   "metadata": {},
   "outputs": [],
   "source": [
    "for i in range(len(file)):\n",
    "    img = cv2.imread(file[i])\n",
    "    gray = cv2.cvtColor(img, cv2.COLOR_BGR2GRAY)\n",
    "    cv2.imwrite('C:/Users/Samarth/Desktop/sikkim faces/'+str(i)+'_sikkim1.png',gray)"
   ]
  },
  {
   "cell_type": "code",
   "execution_count": null,
   "metadata": {},
   "outputs": [],
   "source": []
  }
 ],
 "metadata": {
  "kernelspec": {
   "display_name": "Python 3",
   "language": "python",
   "name": "python3"
  },
  "language_info": {
   "codemirror_mode": {
    "name": "ipython",
    "version": 3
   },
   "file_extension": ".py",
   "mimetype": "text/x-python",
   "name": "python",
   "nbconvert_exporter": "python",
   "pygments_lexer": "ipython3",
   "version": "3.6.7"
  }
 },
 "nbformat": 4,
 "nbformat_minor": 2
}
