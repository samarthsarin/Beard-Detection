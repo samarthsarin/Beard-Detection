{
 "cells": [
  {
   "cell_type": "code",
   "execution_count": 1,
   "metadata": {},
   "outputs": [
    {
     "name": "stderr",
     "output_type": "stream",
     "text": [
      "Using TensorFlow backend.\n"
     ]
    }
   ],
   "source": [
    "import numpy as np\n",
    "import cv2\n",
    "\n",
    "from keras.models import load_model\n",
    "from keras.preprocessing.image import img_to_array\n",
    "\n",
    "model = load_model('C:/Users/Samarth/Downloads/beard detection.h5')\n",
    "\n",
    "face_cascade = cv2.CascadeClassifier('C:/Users/Samarth/Desktop/Mtech AI/CV Class/Notebooks/haarcascade_frontalface_default.xml')\n",
    "\n",
    "cap = cv2.VideoCapture(0)\n",
    "while(True):\n",
    "    # Capture frame-by-frame\n",
    "    ret, frame = cap.read()\n",
    "    frame = cv2.cvtColor(frame, cv2.COLOR_BGR2GRAY)\n",
    "    frame = cv2.cvtColor(frame, cv2.COLOR_GRAY2BGR)\n",
    "    \n",
    "    faces = face_cascade.detectMultiScale(frame, 1.3, 5)\n",
    "    for (x,y,w,h) in faces:\n",
    "        cv2.rectangle(frame,(x,y),(x+w,y+h),(255,0,0),2)\n",
    "        roi_gray = frame[y:y+h, x:x+w]    \n",
    "        roi_gray = cv2.resize(roi_gray,(64,64))\n",
    "        roi_beard = roi_gray[35:90,7:55]\n",
    "        roi_beard = cv2.resize(roi_beard,(28,28))\n",
    "        roi_beard_array = img_to_array(roi_beard)\n",
    "        roi_beard_array = roi_beard_array/255\n",
    "        roi_beard_array = np.expand_dims(roi_beard_array,0)\n",
    "        prediction = model.predict(roi_beard_array)\n",
    "        if prediction[0][0]<0.5:\n",
    "            answer = 'Beard'\n",
    "        else:\n",
    "            answer = 'Non Beard'\n",
    "        cv2.putText(frame,answer,(5,70), cv2.FONT_HERSHEY_SIMPLEX, 2,(255,255,255),4,cv2.LINE_AA)           \n",
    "        \n",
    "       \n",
    "    cv2.imshow('img',frame)\n",
    "    if cv2.waitKey(1) & 0xFF == ord('q'):\n",
    "        break\n",
    "\n",
    "# When everything done, release the capture\n",
    "cap.release()\n",
    "cv2.destroyAllWindows()"
   ]
  },
  {
   "cell_type": "code",
   "execution_count": null,
   "metadata": {},
   "outputs": [],
   "source": []
  }
 ],
 "metadata": {
  "kernelspec": {
   "display_name": "Python 3",
   "language": "python",
   "name": "python3"
  },
  "language_info": {
   "codemirror_mode": {
    "name": "ipython",
    "version": 3
   },
   "file_extension": ".py",
   "mimetype": "text/x-python",
   "name": "python",
   "nbconvert_exporter": "python",
   "pygments_lexer": "ipython3",
   "version": "3.6.7"
  }
 },
 "nbformat": 4,
 "nbformat_minor": 2
}
