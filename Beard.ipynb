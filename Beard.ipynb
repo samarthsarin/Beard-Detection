{
 "cells": [
  {
   "cell_type": "code",
   "execution_count": 1,
   "metadata": {},
   "outputs": [
    {
     "name": "stdout",
     "output_type": "stream",
     "text": [
      "452\n",
      "Having\n"
     ]
    }
   ],
   "source": [
    "import cv2\n",
    "sample = 0\n",
    "cam = cv2.VideoCapture(0)\n",
    "detector=cv2.CascadeClassifier('C:/Users/Samarth/Desktop/Mtech AI/CV Class/Notebooks/haarcascade_frontalface_default.xml')\n",
    "while(True):\n",
    "    ret, img = cam.read()\n",
    "    gray = cv2.cvtColor(img, cv2.COLOR_BGR2GRAY)\n",
    "    faces = detector.detectMultiScale(gray, 1.3, 5)\n",
    "    for (x,y,w,h) in faces:\n",
    "        cv2.rectangle(img,(x,y),(x+w,y+h),(255,0,0),2)\n",
    "        roi_color = img[y:y+h, x:x+w]\n",
    "        roi_color = cv2.resize(roi_color,(64,64),interpolation = cv2.INTER_AREA)\n",
    "        roi_color = cv2.cvtColor(roi_color,cv2.COLOR_BGR2GRAY)\n",
    "\n",
    "        #cv2.imshow('img',roi_color)\n",
    "        sample=sample+1\n",
    "        cv2.imwrite('C:/Users/Samarth/Desktop/1.png',roi_color)\n",
    "    if cv2.waitKey(100) & 0xFF == ord('q'):\n",
    "        break\n",
    "    # break if the sample number is morethan 20\n",
    "    elif sample>5:\n",
    "        break\n",
    "    # break if the sample number is morethan 20\n",
    "cam.release()\n",
    "cv2.destroyAllWindows()\n",
    "image = cv2.imread('C:/Users/Samarth/Desktop/1.png',0)\n",
    "image = cv2.resize(image,(64,64))\n",
    "roi =  image[45:90,10:55]\n",
    "\n",
    "count = 0\n",
    "for i in range(roi.shape[0]):\n",
    "    for j in range(roi.shape[1]):\n",
    "        if roi[i][j]<55:\n",
    "            count+=1\n",
    "print(count)\n",
    "if count<70:\n",
    "    print('No Beard')\n",
    "else:\n",
    "    print('Having')"
   ]
  },
  {
   "cell_type": "code",
   "execution_count": 2,
   "metadata": {},
   "outputs": [
    {
     "name": "stdout",
     "output_type": "stream",
     "text": [
      "31\n"
     ]
    }
   ],
   "source": [
    "print(count)"
   ]
  },
  {
   "cell_type": "code",
   "execution_count": null,
   "metadata": {},
   "outputs": [],
   "source": []
  },
  {
   "cell_type": "code",
   "execution_count": null,
   "metadata": {},
   "outputs": [],
   "source": []
  },
  {
   "cell_type": "code",
   "execution_count": null,
   "metadata": {},
   "outputs": [],
   "source": []
  },
  {
   "cell_type": "code",
   "execution_count": 231,
   "metadata": {},
   "outputs": [],
   "source": [
    "image = cv2.imread('C:/Users/Samarth/Desktop/North Extra/13_ayushman.png',0)"
   ]
  },
  {
   "cell_type": "code",
   "execution_count": 232,
   "metadata": {},
   "outputs": [],
   "source": [
    "roi =  image[45:90,10:55]"
   ]
  },
  {
   "cell_type": "code",
   "execution_count": 2,
   "metadata": {},
   "outputs": [],
   "source": [
    "cv2.imshow('Image',roi)\n",
    "cv2.waitKey(0)\n",
    "cv2.destroyAllWindows()"
   ]
  },
  {
   "cell_type": "code",
   "execution_count": 234,
   "metadata": {},
   "outputs": [],
   "source": [
    "count = 0\n",
    "for i in range(roi.shape[0]):\n",
    "    for j in range(roi.shape[1]):\n",
    "        if roi[i][j]<50:\n",
    "            count+=1"
   ]
  },
  {
   "cell_type": "code",
   "execution_count": 235,
   "metadata": {},
   "outputs": [
    {
     "data": {
      "text/plain": [
       "201"
      ]
     },
     "execution_count": 235,
     "metadata": {},
     "output_type": "execute_result"
    }
   ],
   "source": [
    "count"
   ]
  },
  {
   "cell_type": "code",
   "execution_count": null,
   "metadata": {},
   "outputs": [],
   "source": []
  },
  {
   "cell_type": "code",
   "execution_count": null,
   "metadata": {},
   "outputs": [],
   "source": []
  }
 ],
 "metadata": {
  "kernelspec": {
   "display_name": "Python 3",
   "language": "python",
   "name": "python3"
  },
  "language_info": {
   "codemirror_mode": {
    "name": "ipython",
    "version": 3
   },
   "file_extension": ".py",
   "mimetype": "text/x-python",
   "name": "python",
   "nbconvert_exporter": "python",
   "pygments_lexer": "ipython3",
   "version": "3.6.7"
  }
 },
 "nbformat": 4,
 "nbformat_minor": 2
}
